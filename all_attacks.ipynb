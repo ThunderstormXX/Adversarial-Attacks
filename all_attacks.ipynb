{
 "cells": [
  {
   "cell_type": "code",
   "execution_count": 48,
   "metadata": {},
   "outputs": [
    {
     "name": "stdout",
     "output_type": "stream",
     "text": [
      "The autoreload extension is already loaded. To reload it, use:\n",
      "  %reload_ext autoreload\n"
     ]
    }
   ],
   "source": [
    "import torch\n",
    "import torch.nn as nn\n",
    "import torch.optim as optim\n",
    "import torch.nn.functional as F\n",
    "\n",
    "import numpy as np\n",
    "from matplotlib import pyplot as plt\n",
    "\n",
    "from src.utils import MNIST, train, train_epoch_adv\n",
    "from src.models import CNN\n",
    "from src.advattack.attacks import test, plot_examples\n",
    "\n",
    "from src.advattack.FGSM import FGSM\n",
    "from src.advattack.noising import RandomTransform\n",
    "\n",
    "import warnings\n",
    "warnings.filterwarnings('ignore')\n",
    "%load_ext autoreload\n",
    "%autoreload 2"
   ]
  },
  {
   "cell_type": "code",
   "execution_count": 2,
   "metadata": {},
   "outputs": [],
   "source": [
    "device = torch.device(\"cuda\" if torch.cuda.is_available() else \"cpu\")"
   ]
  },
  {
   "cell_type": "markdown",
   "metadata": {},
   "source": [
    "## DATA"
   ]
  },
  {
   "cell_type": "code",
   "execution_count": 3,
   "metadata": {},
   "outputs": [],
   "source": [
    "train_dataset, test_dataset, train_loader, test_loader = MNIST()"
   ]
  },
  {
   "cell_type": "markdown",
   "metadata": {},
   "source": [
    "## LOAD CHECKPOINT"
   ]
  },
  {
   "cell_type": "code",
   "execution_count": 66,
   "metadata": {},
   "outputs": [
    {
     "data": {
      "text/plain": [
       "<All keys matched successfully>"
      ]
     },
     "execution_count": 66,
     "metadata": {},
     "output_type": "execute_result"
    }
   ],
   "source": [
    "model = CNN().to(device)\n",
    "model.load_state_dict(torch.load('./checkpoints/simple_cnn_mnist.pth'))"
   ]
  },
  {
   "cell_type": "markdown",
   "metadata": {},
   "source": [
    "## Experiments"
   ]
  },
  {
   "cell_type": "code",
   "execution_count": 67,
   "metadata": {},
   "outputs": [],
   "source": [
    "def experiments( all_attacks, model =model):\n",
    "    all_accuracies = []\n",
    "    all_examples = []\n",
    "\n",
    "    for attacks in all_attacks:\n",
    "        accuracies = []\n",
    "        examples = []\n",
    "\n",
    "        for attack in attacks:\n",
    "            fake_acc, real_acc, ex = test(model, test_loader, attack=attack)\n",
    "            accuracies.append(fake_acc)\n",
    "            examples.append(ex)\n",
    "        \n",
    "        all_accuracies.append(accuracies)\n",
    "        all_examples.append(examples)\n",
    "    return all_accuracies , all_examples"
   ]
  },
  {
   "cell_type": "code",
   "execution_count": 68,
   "metadata": {},
   "outputs": [],
   "source": [
    "\n",
    "epsilons = [0, .05, .1, .15, .2, .25, .3]\n",
    "multipliers = [0. , 0.5 , 1.0 , 1.5 , 2.0 , 2.5 , 3.0]\n",
    "\n",
    "attack_models1 = FGSM(model = model)\n",
    "attack_models2 = [RandomTransform(rotation_range=(0, 60*mul), noise_mean=0, noise_std=0.2 * mul) for mul in multipliers ]\n",
    "\n",
    "attacks1 = [lambda x, y, eps=eps: attack_models1.fgsm_augment(x, y, eps) for eps in epsilons]\n",
    "attacks2 = [lambda x,y, attack_model=attack_model: attack_model.apply_transforms(x,y) for attack_model in attack_models2]\n",
    "\n",
    "all_atacks = [\n",
    "    attacks1, \n",
    "    attacks2,\n",
    "]"
   ]
  },
  {
   "cell_type": "code",
   "execution_count": 69,
   "metadata": {},
   "outputs": [
    {
     "name": "stderr",
     "output_type": "stream",
     "text": [
      "  0%|          | 0/157 [00:00<?, ?it/s]"
     ]
    },
    {
     "name": "stderr",
     "output_type": "stream",
     "text": [
      "100%|██████████| 157/157 [00:11<00:00, 13.20it/s]\n"
     ]
    },
    {
     "name": "stdout",
     "output_type": "stream",
     "text": [
      "Real Accuracy = 0.9814888535031847, Fake Accuracy on the real true predictions = 1.0\n"
     ]
    },
    {
     "name": "stderr",
     "output_type": "stream",
     "text": [
      "100%|██████████| 157/157 [00:10<00:00, 15.03it/s]\n"
     ]
    },
    {
     "name": "stdout",
     "output_type": "stream",
     "text": [
      "Real Accuracy = 0.9814888535031847, Fake Accuracy on the real true predictions = 0.9301959452436601\n"
     ]
    },
    {
     "name": "stderr",
     "output_type": "stream",
     "text": [
      "100%|██████████| 157/157 [00:13<00:00, 11.67it/s]\n"
     ]
    },
    {
     "name": "stdout",
     "output_type": "stream",
     "text": [
      "Real Accuracy = 0.9814888535031847, Fake Accuracy on the real true predictions = 0.7610354358235254\n"
     ]
    },
    {
     "name": "stderr",
     "output_type": "stream",
     "text": [
      "100%|██████████| 157/157 [00:12<00:00, 12.45it/s]\n"
     ]
    },
    {
     "name": "stdout",
     "output_type": "stream",
     "text": [
      "Real Accuracy = 0.9814888535031847, Fake Accuracy on the real true predictions = 0.5100999197881212\n"
     ]
    },
    {
     "name": "stderr",
     "output_type": "stream",
     "text": [
      "100%|██████████| 157/157 [00:10<00:00, 14.32it/s]\n"
     ]
    },
    {
     "name": "stdout",
     "output_type": "stream",
     "text": [
      "Real Accuracy = 0.9814888535031847, Fake Accuracy on the real true predictions = 0.24543620945726363\n"
     ]
    },
    {
     "name": "stderr",
     "output_type": "stream",
     "text": [
      "100%|██████████| 157/157 [00:11<00:00, 13.46it/s]\n"
     ]
    },
    {
     "name": "stdout",
     "output_type": "stream",
     "text": [
      "Real Accuracy = 0.9814888535031847, Fake Accuracy on the real true predictions = 0.09027234758547378\n"
     ]
    },
    {
     "name": "stderr",
     "output_type": "stream",
     "text": [
      "100%|██████████| 157/157 [00:10<00:00, 14.65it/s]\n"
     ]
    },
    {
     "name": "stdout",
     "output_type": "stream",
     "text": [
      "Real Accuracy = 0.9814888535031847, Fake Accuracy on the real true predictions = 0.03782871519677066\n"
     ]
    },
    {
     "name": "stderr",
     "output_type": "stream",
     "text": [
      "100%|██████████| 157/157 [00:11<00:00, 13.55it/s]\n"
     ]
    },
    {
     "name": "stdout",
     "output_type": "stream",
     "text": [
      "Real Accuracy = 0.9814888535031847, Fake Accuracy on the real true predictions = 1.0\n"
     ]
    },
    {
     "name": "stderr",
     "output_type": "stream",
     "text": [
      "100%|██████████| 157/157 [00:13<00:00, 11.28it/s]\n"
     ]
    },
    {
     "name": "stdout",
     "output_type": "stream",
     "text": [
      "Real Accuracy = 0.9814888535031847, Fake Accuracy on the real true predictions = 0.9748493196895771\n"
     ]
    },
    {
     "name": "stderr",
     "output_type": "stream",
     "text": [
      "100%|██████████| 157/157 [00:14<00:00, 10.97it/s]\n"
     ]
    },
    {
     "name": "stdout",
     "output_type": "stream",
     "text": [
      "Real Accuracy = 0.9814888535031847, Fake Accuracy on the real true predictions = 0.8752315967968104\n"
     ]
    },
    {
     "name": "stderr",
     "output_type": "stream",
     "text": [
      "100%|██████████| 157/157 [00:13<00:00, 11.77it/s]\n"
     ]
    },
    {
     "name": "stdout",
     "output_type": "stream",
     "text": [
      "Real Accuracy = 0.9814888535031847, Fake Accuracy on the real true predictions = 0.7387064618342212\n"
     ]
    },
    {
     "name": "stderr",
     "output_type": "stream",
     "text": [
      "100%|██████████| 157/157 [00:08<00:00, 19.48it/s]\n"
     ]
    },
    {
     "name": "stdout",
     "output_type": "stream",
     "text": [
      "Real Accuracy = 0.9814888535031847, Fake Accuracy on the real true predictions = 0.5774656525709816\n"
     ]
    },
    {
     "name": "stderr",
     "output_type": "stream",
     "text": [
      "100%|██████████| 157/157 [00:07<00:00, 19.63it/s]\n"
     ]
    },
    {
     "name": "stdout",
     "output_type": "stream",
     "text": [
      "Real Accuracy = 0.9814888535031847, Fake Accuracy on the real true predictions = 0.45447627865463586\n"
     ]
    },
    {
     "name": "stderr",
     "output_type": "stream",
     "text": [
      "100%|██████████| 157/157 [00:13<00:00, 11.66it/s]"
     ]
    },
    {
     "name": "stdout",
     "output_type": "stream",
     "text": [
      "Real Accuracy = 0.9814888535031847, Fake Accuracy on the real true predictions = 0.37350908007826006\n"
     ]
    },
    {
     "name": "stderr",
     "output_type": "stream",
     "text": [
      "\n"
     ]
    }
   ],
   "source": [
    "all_accuracies , all_examples = experiments(all_atacks)"
   ]
  },
  {
   "cell_type": "code",
   "execution_count": 70,
   "metadata": {
    "collapsed": true
   },
   "outputs": [],
   "source": [
    "# plot_examples(vvalues = epsilons, examples=all_examples[0], cnt_ex = 6 )\n",
    "# plot_examples(vvalues = multipliers, examples=all_examples[1], cnt_ex = 6 )"
   ]
  },
  {
   "cell_type": "markdown",
   "metadata": {},
   "source": [
    "## AUGMENTATION finetuning Adversarial loss"
   ]
  },
  {
   "cell_type": "markdown",
   "metadata": {},
   "source": [
    "### Pretrained model"
   ]
  },
  {
   "cell_type": "code",
   "execution_count": 71,
   "metadata": {},
   "outputs": [],
   "source": [
    "model = CNN().to(device)\n",
    "model.load_state_dict(torch.load('./checkpoints/simple_cnn_mnist.pth'))\n",
    "\n",
    "criterion = nn.CrossEntropyLoss()\n",
    "optimizer = optim.Adam(model.parameters(), lr=0.001)"
   ]
  },
  {
   "cell_type": "code",
   "execution_count": 72,
   "metadata": {},
   "outputs": [],
   "source": [
    "eps = 0.1\n",
    "mul = 1.5\n",
    "attack_model1 = FGSM(model = model)\n",
    "attack_model2 = RandomTransform(rotation_range=(0, 60*mul), noise_mean=0, noise_std=0.2 * mul)\n",
    "\n",
    "attacks = [\n",
    "    lambda x, y, eps=eps: attack_models1.fgsm_augment(x, y, eps) ,\n",
    "    lambda x,y, attack_model=attack_model2: attack_model.apply_transforms(x,y)\n",
    "]\n"
   ]
  },
  {
   "cell_type": "code",
   "execution_count": 73,
   "metadata": {},
   "outputs": [
    {
     "name": "stderr",
     "output_type": "stream",
     "text": [
      "  0%|          | 0/938 [00:00<?, ?it/s]"
     ]
    },
    {
     "name": "stderr",
     "output_type": "stream",
     "text": [
      "100%|██████████| 938/938 [02:59<00:00,  5.23it/s]\n"
     ]
    }
   ],
   "source": [
    "n = len(attacks)\n",
    "pi = torch.ones(n)/n\n",
    "pi, pi_array = train_epoch_adv(model, pi, attacks, optimizer, train_loader, criterion, device, tau =1)\n",
    "torch.save(model.state_dict(), './checkpoints/simple_cnn_mnist_adversarial_2attacks.pth')"
   ]
  },
  {
   "cell_type": "code",
   "execution_count": 74,
   "metadata": {},
   "outputs": [
    {
     "data": {
      "text/plain": [
       "tensor([0.5096, 0.4904])"
      ]
     },
     "execution_count": 74,
     "metadata": {},
     "output_type": "execute_result"
    }
   ],
   "source": [
    "pi"
   ]
  },
  {
   "cell_type": "markdown",
   "metadata": {},
   "source": [
    "### load adv model"
   ]
  },
  {
   "cell_type": "code",
   "execution_count": 75,
   "metadata": {},
   "outputs": [
    {
     "data": {
      "text/plain": [
       "<All keys matched successfully>"
      ]
     },
     "execution_count": 75,
     "metadata": {},
     "output_type": "execute_result"
    }
   ],
   "source": [
    "model = CNN().to(device)\n",
    "model.load_state_dict(torch.load('./checkpoints/simple_cnn_mnist_adversarial_2attacks.pth'))"
   ]
  },
  {
   "cell_type": "code",
   "execution_count": 76,
   "metadata": {},
   "outputs": [
    {
     "name": "stderr",
     "output_type": "stream",
     "text": [
      "100%|██████████| 157/157 [00:14<00:00, 10.73it/s]\n"
     ]
    },
    {
     "name": "stdout",
     "output_type": "stream",
     "text": [
      "Real Accuracy = 0.9830812101910829, Fake Accuracy on the real true predictions = 1.0\n"
     ]
    },
    {
     "name": "stderr",
     "output_type": "stream",
     "text": [
      "100%|██████████| 157/157 [00:17<00:00,  8.99it/s]\n"
     ]
    },
    {
     "name": "stdout",
     "output_type": "stream",
     "text": [
      "Real Accuracy = 0.9830812101910829, Fake Accuracy on the real true predictions = 0.9875012761105753\n"
     ]
    },
    {
     "name": "stderr",
     "output_type": "stream",
     "text": [
      "100%|██████████| 157/157 [00:17<00:00,  8.85it/s]\n"
     ]
    },
    {
     "name": "stdout",
     "output_type": "stream",
     "text": [
      "Real Accuracy = 0.9830812101910829, Fake Accuracy on the real true predictions = 0.9697818771270797\n"
     ]
    },
    {
     "name": "stderr",
     "output_type": "stream",
     "text": [
      "100%|██████████| 157/157 [00:12<00:00, 13.05it/s]\n"
     ]
    },
    {
     "name": "stdout",
     "output_type": "stream",
     "text": [
      "Real Accuracy = 0.9830812101910829, Fake Accuracy on the real true predictions = 0.9411307012191067\n"
     ]
    },
    {
     "name": "stderr",
     "output_type": "stream",
     "text": [
      " 39%|███▉      | 61/157 [00:05<00:11,  8.63it/s]"
     ]
    }
   ],
   "source": [
    "all_accuracies_adv , all_examples_adv = experiments(all_atacks, model=model)"
   ]
  },
  {
   "cell_type": "markdown",
   "metadata": {},
   "source": [
    "## Сравнение моделей"
   ]
  },
  {
   "cell_type": "code",
   "execution_count": 71,
   "metadata": {},
   "outputs": [
    {
     "data": {
      "text/plain": [
       "Text(0, 0.5, 'Accuracy')"
      ]
     },
     "execution_count": 71,
     "metadata": {},
     "output_type": "execute_result"
    },
    {
     "data": {
      "image/png": "[encoded data removed]",
      "text/plain": [
       "<Figure size 1000x500 with 1 Axes>"
      ]
     },
     "metadata": {},
     "output_type": "display_data"
    }
   ],
   "source": [
    "plt.figure(figsize=(10,5))\n",
    "plt.plot(epsilons, all_accuracies[0],'-o', label = 'cnn')\n",
    "plt.plot(epsilons, all_accuracies_adv[0],'-o', label = 'cnn with adversarial')\n",
    "plt.title(\"Accuracy by Epsilon (FGSM attack)\")\n",
    "plt.legend()\n",
    "plt.xlabel(\"Epsilon\")\n",
    "plt.ylabel(\"Accuracy\")\n",
    "\n",
    "plt.figure(figsize=(10,5))\n",
    "plt.plot(multipliers, all_accuracies[1],'-o', label = 'cnn')\n",
    "plt.plot(multipliers, all_accuracies_adv[1],'-o', label = 'cnn with adversarial')\n",
    "plt.title(\"Accuracy by multiplier (noise + rotate attack)\")\n",
    "plt.legend()\n",
    "plt.xlabel(\"Multipliers\")\n",
    "plt.ylabel(\"Accuracy\")"
   ]
  }
 ],
 "metadata": {
  "kernelspec": {
   "display_name": "base",
   "language": "python",
   "name": "python3"
  },
  "language_info": {
   "codemirror_mode": {
    "name": "ipython",
    "version": 3
   },
   "file_extension": ".py",
   "mimetype": "text/x-python",
   "name": "python",
   "nbconvert_exporter": "python",
   "pygments_lexer": "ipython3",
   "version": "3.10.12"
  }
 },
 "nbformat": 4,
 "nbformat_minor": 2
}
